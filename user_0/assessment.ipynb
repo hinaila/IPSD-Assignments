{
 "cells": [
  {
   "cell_type": "code",
   "execution_count": null,
   "metadata": {},
   "outputs": [],
   "source": [
    "pip install pandas numpy seaborn matplotlib scikit-learn"
   ]
  },
  {
   "cell_type": "code",
   "execution_count": 2,
   "metadata": {},
   "outputs": [],
   "source": [
    "import pandas as pd\n",
    "import numpy as np"
   ]
  },
  {
   "cell_type": "code",
   "execution_count": 23,
   "metadata": {},
   "outputs": [],
   "source": [
    "data1 = pd.read_csv('emg.csv')\n",
    "data2 = pd.read_csv('facial_skin_temperature.csv')\n",
    "data3 = pd.read_csv('gsr.csv')\n",
    "data4 = pd.read_csv('heart_rate.csv')\n",
    "data5 = pd.read_csv('imu_chair_back.csv')\n",
    "data6 = pd.read_csv('imu_chair_seat.csv')\n",
    "data7 = pd.read_csv('imu_right_hand.csv')\n",
    "data8 = pd.read_csv('imu_left_hand.csv')\n",
    "data9 = pd.read_csv('spo2.csv')\n",
    "semua_data = pd.concat([data1, data2, data3, data4, data5, data6, data7, data8, data9])"
   ]
  },
  {
   "cell_type": "code",
   "execution_count": 24,
   "metadata": {},
   "outputs": [
    {
     "name": "stdout",
     "output_type": "stream",
     "text": [
      "time                          0\n",
      "emg_right_hand             7627\n",
      "emg_left_hand              7627\n",
      "facial_skin_temperature    8090\n",
      "gsr                        7627\n",
      "heart_rate                 8103\n",
      "linaccel_x                 4411\n",
      "linaccel_y                 4411\n",
      "linaccel_z                 4411\n",
      "gravity_x                  4411\n",
      "gravity_y                  4411\n",
      "gravity_z                  4411\n",
      "gyro_x                     4411\n",
      "gyro_y                     4411\n",
      "gyro_z                     4411\n",
      "euler_x                    4411\n",
      "euler_y                    4411\n",
      "euler_z                    4411\n",
      "quaternion_w               4411\n",
      "quaternion_y               4411\n",
      "quaternion_x               4411\n",
      "quaternion_z               4411\n",
      "spo2                       7637\n",
      "dtype: int64\n",
      "time                          0\n",
      "emg_right_hand             7627\n",
      "emg_left_hand              7627\n",
      "facial_skin_temperature    8090\n",
      "gsr                        7627\n",
      "heart_rate                 8103\n",
      "linaccel_x                 4411\n",
      "linaccel_y                 4411\n",
      "linaccel_z                 4411\n",
      "gravity_x                  4411\n",
      "gravity_y                  4411\n",
      "gravity_z                  4411\n",
      "gyro_x                     4411\n",
      "gyro_y                     4411\n",
      "gyro_z                     4411\n",
      "euler_x                    4411\n",
      "euler_y                    4411\n",
      "euler_z                    4411\n",
      "quaternion_w               4411\n",
      "quaternion_y               4411\n",
      "quaternion_x               4411\n",
      "quaternion_z               4411\n",
      "spo2                       7637\n",
      "dtype: int64\n",
      "time                          0\n",
      "emg_right_hand             7627\n",
      "emg_left_hand              7627\n",
      "facial_skin_temperature    8090\n",
      "gsr                        7627\n",
      "heart_rate                 8103\n",
      "linaccel_x                 4411\n",
      "linaccel_y                 4411\n",
      "linaccel_z                 4411\n",
      "gravity_x                  4411\n",
      "gravity_y                  4411\n",
      "gravity_z                  4411\n",
      "gyro_x                     4411\n",
      "gyro_y                     4411\n",
      "gyro_z                     4411\n",
      "euler_x                    4411\n",
      "euler_y                    4411\n",
      "euler_z                    4411\n",
      "quaternion_w               4411\n",
      "quaternion_y               4411\n",
      "quaternion_x               4411\n",
      "quaternion_z               4411\n",
      "spo2                       7637\n",
      "dtype: int64\n",
      "time                          0\n",
      "emg_right_hand             7627\n",
      "emg_left_hand              7627\n",
      "facial_skin_temperature    8090\n",
      "gsr                        7627\n",
      "heart_rate                 8103\n",
      "linaccel_x                 4411\n",
      "linaccel_y                 4411\n",
      "linaccel_z                 4411\n",
      "gravity_x                  4411\n",
      "gravity_y                  4411\n",
      "gravity_z                  4411\n",
      "gyro_x                     4411\n",
      "gyro_y                     4411\n",
      "gyro_z                     4411\n",
      "euler_x                    4411\n",
      "euler_y                    4411\n",
      "euler_z                    4411\n",
      "quaternion_w               4411\n",
      "quaternion_y               4411\n",
      "quaternion_x               4411\n",
      "quaternion_z               4411\n",
      "spo2                       7637\n",
      "dtype: int64\n"
     ]
    }
   ],
   "source": [
    "import pandas as pd\n",
    "import numpy as np\n",
    "\n",
    "# Cek missing values\n",
    "print(semua_data.isnull().sum())\n",
    "\n",
    "# Imputasi mean, median, dan modus\n",
    "data_mean = semua_data.fillna(semua_data.mean())\n",
    "data_median = semua_data.fillna(semua_data.median())\n",
    "data_mode = semua_data.fillna(semua_data.mode().iloc[0]) \n",
    "\n",
    "# Cek hasil imputasi\n",
    "print(semua_data.isnull().sum())\n",
    "print(semua_data.isnull().sum())\n",
    "print(semua_data.isnull().sum())"
   ]
  },
  {
   "cell_type": "code",
   "execution_count": 29,
   "metadata": {},
   "outputs": [
    {
     "name": "stdout",
     "output_type": "stream",
     "text": [
      "time                          0\n",
      "emg_right_hand               39\n",
      "emg_left_hand                27\n",
      "facial_skin_temperature       2\n",
      "gsr                           0\n",
      "heart_rate                    0\n",
      "linaccel_x                  883\n",
      "linaccel_y                   11\n",
      "linaccel_z                  650\n",
      "gravity_x                  2134\n",
      "gravity_y                     0\n",
      "gravity_z                     0\n",
      "gyro_x                      694\n",
      "gyro_y                     2010\n",
      "gyro_z                     1577\n",
      "euler_x                       0\n",
      "euler_y                    2134\n",
      "euler_z                       0\n",
      "quaternion_w                  0\n",
      "quaternion_y               2000\n",
      "quaternion_x               1152\n",
      "quaternion_z               1072\n",
      "spo2                        108\n",
      "dtype: int64\n"
     ]
    },
    {
     "data": {
      "image/png": "[encoded data removed]",
      "text/plain": [
       "<Figure size 800x600 with 1 Axes>"
      ]
     },
     "metadata": {},
     "output_type": "display_data"
    }
   ],
   "source": [
    "# Fungsi untuk mendeteksi outliers menggunakan IQR\n",
    "def detect_outliers_iqr(df):\n",
    "    Q1 = df.quantile(0.25)\n",
    "    Q3 = df.quantile(0.75)\n",
    "    IQR = Q3 - Q1\n",
    "    is_outlier = (df < (Q1 - 1.5 * IQR)) | (df > (Q3 + 1.5 * IQR))\n",
    "    return is_outlier\n",
    "\n",
    "# Deteksi outliers\n",
    "outliers = detect_outliers_iqr(semua_data.select_dtypes(include=[np.number]))  # Hanya kolom numerik\n",
    "print(outliers.sum())  # Jumlah outliers per kolom\n",
    "\n",
    "# Visualisasi outliers\n",
    "plt.figure(figsize=(8,6))\n",
    "sns.boxplot(data=semua_data.select_dtypes(include=[np.number]))\n",
    "plt.title('Visualisasi Outliers dengan Boxplot')\n",
    "plt.show()\n",
    "\n"
   ]
  }
 ],
 "metadata": {
  "kernelspec": {
   "display_name": "base",
   "language": "python",
   "name": "python3"
  },
  "language_info": {
   "codemirror_mode": {
    "name": "ipython",
    "version": 3
   },
   "file_extension": ".py",
   "mimetype": "text/x-python",
   "name": "python",
   "nbconvert_exporter": "python",
   "pygments_lexer": "ipython3",
   "version": "3.11.5"
  }
 },
 "nbformat": 4,
 "nbformat_minor": 2
}
