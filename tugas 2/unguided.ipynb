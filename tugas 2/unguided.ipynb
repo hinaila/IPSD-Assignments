{
 "cells": [
  {
   "cell_type": "code",
   "execution_count": 2,
   "metadata": {},
   "outputs": [
    {
     "name": "stdout",
     "output_type": "stream",
     "text": [
      "Collecting pandas\n",
      "  Downloading pandas-2.2.3-cp312-cp312-win_amd64.whl.metadata (19 kB)\n",
      "Collecting numpy>=1.26.0 (from pandas)\n",
      "  Downloading numpy-2.1.2-cp312-cp312-win_amd64.whl.metadata (59 kB)\n",
      "Requirement already satisfied: python-dateutil>=2.8.2 in c:\\users\\hp\\appdata\\roaming\\python\\python312\\site-packages (from pandas) (2.9.0.post0)\n",
      "Collecting pytz>=2020.1 (from pandas)\n",
      "  Downloading pytz-2024.2-py2.py3-none-any.whl.metadata (22 kB)\n",
      "Collecting tzdata>=2022.7 (from pandas)\n",
      "  Downloading tzdata-2024.2-py2.py3-none-any.whl.metadata (1.4 kB)\n",
      "Requirement already satisfied: six>=1.5 in c:\\users\\hp\\appdata\\roaming\\python\\python312\\site-packages (from python-dateutil>=2.8.2->pandas) (1.16.0)\n",
      "Downloading pandas-2.2.3-cp312-cp312-win_amd64.whl (11.5 MB)\n",
      "   ---------------------------------------- 0.0/11.5 MB ? eta -:--:--\n",
      "    --------------------------------------- 0.3/11.5 MB ? eta -:--:--\n",
      "   --- ------------------------------------ 1.0/11.5 MB 3.0 MB/s eta 0:00:04\n",
      "   ---- ----------------------------------- 1.3/11.5 MB 2.2 MB/s eta 0:00:05\n",
      "   ----- ---------------------------------- 1.6/11.5 MB 1.9 MB/s eta 0:00:06\n",
      "   ------- -------------------------------- 2.1/11.5 MB 2.1 MB/s eta 0:00:05\n",
      "   --------- ------------------------------ 2.6/11.5 MB 2.0 MB/s eta 0:00:05\n",
      "   ---------- ----------------------------- 3.1/11.5 MB 2.0 MB/s eta 0:00:05\n",
      "   ------------ --------------------------- 3.7/11.5 MB 2.1 MB/s eta 0:00:04\n",
      "   -------------- ------------------------- 4.2/11.5 MB 2.1 MB/s eta 0:00:04\n",
      "   ---------------- ----------------------- 4.7/11.5 MB 2.2 MB/s eta 0:00:04\n",
      "   ------------------- -------------------- 5.5/11.5 MB 2.3 MB/s eta 0:00:03\n",
      "   -------------------- ------------------- 6.0/11.5 MB 2.3 MB/s eta 0:00:03\n",
      "   --------------------- ------------------ 6.3/11.5 MB 2.3 MB/s eta 0:00:03\n",
      "   ----------------------- ---------------- 6.8/11.5 MB 2.2 MB/s eta 0:00:03\n",
      "   ------------------------ --------------- 7.1/11.5 MB 2.3 MB/s eta 0:00:02\n",
      "   -------------------------- ------------- 7.6/11.5 MB 2.2 MB/s eta 0:00:02\n",
      "   ----------------------------- ---------- 8.4/11.5 MB 2.3 MB/s eta 0:00:02\n",
      "   ------------------------------ --------- 8.9/11.5 MB 2.3 MB/s eta 0:00:02\n",
      "   ------------------------------- -------- 9.2/11.5 MB 2.3 MB/s eta 0:00:02\n",
      "   ---------------------------------- ----- 10.0/11.5 MB 2.3 MB/s eta 0:00:01\n",
      "   ----------------------------------- ---- 10.2/11.5 MB 2.3 MB/s eta 0:00:01\n",
      "   ------------------------------------ --- 10.5/11.5 MB 2.3 MB/s eta 0:00:01\n",
      "   ------------------------------------- -- 10.7/11.5 MB 2.2 MB/s eta 0:00:01\n",
      "   ---------------------------------------- 11.5/11.5 MB 2.2 MB/s eta 0:00:00\n",
      "Downloading numpy-2.1.2-cp312-cp312-win_amd64.whl (12.6 MB)\n",
      "   ---------------------------------------- 0.0/12.6 MB ? eta -:--:--\n",
      "    --------------------------------------- 0.3/12.6 MB ? eta -:--:--\n",
      "   - -------------------------------------- 0.5/12.6 MB 2.8 MB/s eta 0:00:05\n",
      "   -- ------------------------------------- 0.8/12.6 MB 1.2 MB/s eta 0:00:10\n",
      "   --- ------------------------------------ 1.0/12.6 MB 1.2 MB/s eta 0:00:10\n",
      "   ---- ----------------------------------- 1.3/12.6 MB 1.4 MB/s eta 0:00:09\n",
      "   ----- ---------------------------------- 1.6/12.6 MB 1.2 MB/s eta 0:00:10\n",
      "   ------ --------------------------------- 2.1/12.6 MB 1.4 MB/s eta 0:00:08\n",
      "   -------- ------------------------------- 2.6/12.6 MB 1.6 MB/s eta 0:00:07\n",
      "   ---------- ----------------------------- 3.1/12.6 MB 1.7 MB/s eta 0:00:06\n",
      "   ----------- ---------------------------- 3.7/12.6 MB 1.8 MB/s eta 0:00:05\n",
      "   ------------ --------------------------- 3.9/12.6 MB 1.7 MB/s eta 0:00:06\n",
      "   ------------- -------------------------- 4.2/12.6 MB 1.6 MB/s eta 0:00:06\n",
      "   -------------- ------------------------- 4.5/12.6 MB 1.7 MB/s eta 0:00:05\n",
      "   --------------- ------------------------ 5.0/12.6 MB 1.7 MB/s eta 0:00:05\n",
      "   ------------------ --------------------- 5.8/12.6 MB 1.8 MB/s eta 0:00:04\n",
      "   -------------------- ------------------- 6.3/12.6 MB 1.9 MB/s eta 0:00:04\n",
      "   -------------------- ------------------- 6.3/12.6 MB 1.9 MB/s eta 0:00:04\n",
      "   --------------------- ------------------ 6.8/12.6 MB 1.8 MB/s eta 0:00:04\n",
      "   ----------------------- ---------------- 7.3/12.6 MB 1.9 MB/s eta 0:00:03\n",
      "   ----------------------- ---------------- 7.3/12.6 MB 1.9 MB/s eta 0:00:03\n",
      "   ----------------------- ---------------- 7.3/12.6 MB 1.9 MB/s eta 0:00:03\n",
      "   ------------------------ --------------- 7.6/12.6 MB 1.6 MB/s eta 0:00:04\n",
      "   ------------------------- -------------- 8.1/12.6 MB 1.7 MB/s eta 0:00:03\n",
      "   --------------------------- ------------ 8.7/12.6 MB 1.7 MB/s eta 0:00:03\n",
      "   ----------------------------- ---------- 9.2/12.6 MB 1.7 MB/s eta 0:00:02\n",
      "   ------------------------------ --------- 9.7/12.6 MB 1.8 MB/s eta 0:00:02\n",
      "   -------------------------------- ------- 10.2/12.6 MB 1.8 MB/s eta 0:00:02\n",
      "   ---------------------------------- ----- 10.7/12.6 MB 1.8 MB/s eta 0:00:02\n",
      "   ----------------------------------- ---- 11.3/12.6 MB 1.8 MB/s eta 0:00:01\n",
      "   ------------------------------------- -- 11.8/12.6 MB 1.9 MB/s eta 0:00:01\n",
      "   ---------------------------------------  12.3/12.6 MB 1.9 MB/s eta 0:00:01\n",
      "   ---------------------------------------- 12.6/12.6 MB 1.9 MB/s eta 0:00:00\n",
      "Downloading pytz-2024.2-py2.py3-none-any.whl (508 kB)\n",
      "Downloading tzdata-2024.2-py2.py3-none-any.whl (346 kB)\n",
      "Installing collected packages: pytz, tzdata, numpy, pandas\n",
      "Successfully installed numpy-2.1.2 pandas-2.2.3 pytz-2024.2 tzdata-2024.2\n",
      "Note: you may need to restart the kernel to use updated packages.\n"
     ]
    },
    {
     "name": "stderr",
     "output_type": "stream",
     "text": [
      "  WARNING: The scripts f2py.exe and numpy-config.exe are installed in 'c:\\Users\\HP\\AppData\\Local\\Programs\\Python\\Python312\\Scripts' which is not on PATH.\n",
      "  Consider adding this directory to PATH or, if you prefer to suppress this warning, use --no-warn-script-location.\n"
     ]
    }
   ],
   "source": [
    "pip install pandas"
   ]
  },
  {
   "cell_type": "code",
   "execution_count": 6,
   "metadata": {},
   "outputs": [
    {
     "name": "stdout",
     "output_type": "stream",
     "text": [
      "  Marketing expense  Production expense  Multiplex coverage      Budget  \\\n",
      "0           201.264               59.62               462.0  36.524.125   \n",
      "1           205.462               69.14               531.0  35.668.655   \n",
      "2           205.458               69.14               531.0  39.912.675   \n",
      "3           206.474               59.36               542.0    38873.89   \n",
      "4            21.381               59.36               542.0  39.701.585   \n",
      "\n",
      "   Movie_length  Lead_ Actor_Rating  Lead_Actress_rating  Director_rating  \\\n",
      "0         138.7               7.825                8.095            7.910   \n",
      "1         152.4               7.505                7.650            7.440   \n",
      "2         134.6               7.485                7.570            7.495   \n",
      "3         119.3               6.895                7.035            6.920   \n",
      "4         127.7               6.920                7.070            6.815   \n",
      "\n",
      "   Producer_rating  Critic_rating  Trailer_views 3D_available  Time_taken  \\\n",
      "0            7.995           7.94         527367          YES      109.60   \n",
      "1            7.470           7.44         494055           NO      146.64   \n",
      "2            7.515           7.44         547051           NO      147.88   \n",
      "3            7.020           8.26         516279          YES      185.36   \n",
      "4            7.070           8.26         531448           NO      176.48   \n",
      "\n",
      "   Twitter_hastags     Genre  Avg_age_actors  Num_multiplex  Collection  \\\n",
      "0          223.840  Thriller              23            494       48000   \n",
      "1          243.456     Drama              42            462       43200   \n",
      "2         2022.400    Comedy              38            458       69400   \n",
      "3          225.344     Drama              45            472       66800   \n",
      "4          225.792     Drama              55            395       72400   \n",
      "\n",
      "   Start_Tech_Oscar  \n",
      "0                 1  \n",
      "1                 0  \n",
      "2                 1  \n",
      "3                 1  \n",
      "4                 1  \n"
     ]
    }
   ],
   "source": [
    "import pandas as pd\n",
    "\n",
    "# Load data\n",
    "file_path = 'movie2.csv'  # Ganti dengan path yang sesuai jika file tidak di direktori yang sama\n",
    "df = pd.read_csv(file_path)\n",
    "\n",
    "# Menampilkan beberapa baris pertama dari data\n",
    "print(df.head())"
   ]
  },
  {
   "cell_type": "code",
   "execution_count": 7,
   "metadata": {},
   "outputs": [
    {
     "name": "stdout",
     "output_type": "stream",
     "text": [
      "Jumlah nilai duplikat: 0\n"
     ]
    }
   ],
   "source": [
    "# Mengecek jumlah nilai duplikat\n",
    "duplicate_count = data.duplicated().sum()\n",
    "print(f'Jumlah nilai duplikat: {duplicate_count}')\n"
   ]
  },
  {
   "cell_type": "code",
   "execution_count": 8,
   "metadata": {},
   "outputs": [
    {
     "name": "stdout",
     "output_type": "stream",
     "text": [
      "                     Null Values  Percentage\n",
      "Marketing expense              0    0.000000\n",
      "Production expense             0    0.000000\n",
      "Multiplex coverage             0    0.000000\n",
      "Budget                         0    0.000000\n",
      "Movie_length                   0    0.000000\n",
      "Lead_ Actor_Rating             0    0.000000\n",
      "Lead_Actress_rating            0    0.000000\n",
      "Director_rating                0    0.000000\n",
      "Producer_rating                0    0.000000\n",
      "Critic_rating                  0    0.000000\n",
      "Trailer_views                  0    0.000000\n",
      "3D_available                   0    0.000000\n",
      "Time_taken                    12    2.371542\n",
      "Twitter_hastags                0    0.000000\n",
      "Genre                          0    0.000000\n",
      "Avg_age_actors                 0    0.000000\n",
      "Num_multiplex                  0    0.000000\n",
      "Collection                     0    0.000000\n",
      "Start_Tech_Oscar               0    0.000000\n"
     ]
    }
   ],
   "source": [
    "# Menemukan nilai null\n",
    "null_values = data.isnull().sum()\n",
    "null_percentage = (null_values / len(data)) * 100\n",
    "\n",
    "# Menampilkan hasil\n",
    "null_info = pd.DataFrame({'Null Values': null_values, 'Percentage': null_percentage})\n",
    "print(null_info)\n"
   ]
  },
  {
   "cell_type": "code",
   "execution_count": 9,
   "metadata": {},
   "outputs": [],
   "source": [
    "# Menghapus baris dengan nilai null\n",
    "data_dropped_rows = data.dropna()\n"
   ]
  },
  {
   "cell_type": "code",
   "execution_count": 10,
   "metadata": {},
   "outputs": [],
   "source": [
    "# Menghapus kolom dengan nilai null\n",
    "data_dropped_columns = data.dropna(axis=1)\n"
   ]
  },
  {
   "cell_type": "code",
   "execution_count": 12,
   "metadata": {},
   "outputs": [
    {
     "name": "stdout",
     "output_type": "stream",
     "text": [
      "Jumlah Missing Values per Kolom:\n",
      "Marketing expense       0\n",
      "Production expense      0\n",
      "Multiplex coverage      0\n",
      "Budget                  0\n",
      "Movie_length            0\n",
      "Lead_ Actor_Rating      0\n",
      "Lead_Actress_rating     0\n",
      "Director_rating         0\n",
      "Producer_rating         0\n",
      "Critic_rating           0\n",
      "Trailer_views           0\n",
      "3D_available            0\n",
      "Time_taken             12\n",
      "Twitter_hastags         0\n",
      "Genre                   0\n",
      "Avg_age_actors          0\n",
      "Num_multiplex           0\n",
      "Collection              0\n",
      "Start_Tech_Oscar        0\n",
      "dtype: int64\n",
      "\n",
      "Persentase Missing Values per Kolom:\n",
      "Marketing expense      0.000000\n",
      "Production expense     0.000000\n",
      "Multiplex coverage     0.000000\n",
      "Budget                 0.000000\n",
      "Movie_length           0.000000\n",
      "Lead_ Actor_Rating     0.000000\n",
      "Lead_Actress_rating    0.000000\n",
      "Director_rating        0.000000\n",
      "Producer_rating        0.000000\n",
      "Critic_rating          0.000000\n",
      "Trailer_views          0.000000\n",
      "3D_available           0.000000\n",
      "Time_taken             2.371542\n",
      "Twitter_hastags        0.000000\n",
      "Genre                  0.000000\n",
      "Avg_age_actors         0.000000\n",
      "Num_multiplex          0.000000\n",
      "Collection             0.000000\n",
      "Start_Tech_Oscar       0.000000\n",
      "dtype: float64\n"
     ]
    }
   ],
   "source": [
    "# Menemukan jumlah missing values di setiap kolom\n",
    "missing_values = df.isnull().sum()\n",
    "\n",
    "# Menghitung persentase missing values di setiap kolom\n",
    "missing_percentage = (df.isnull().sum() / len(df)) * 100\n",
    "\n",
    "# Menampilkan jumlah dan persentase missing values\n",
    "print(\"Jumlah Missing Values per Kolom:\")\n",
    "print(missing_values)\n",
    "\n",
    "print(\"\\nPersentase Missing Values per Kolom:\")\n",
    "print(missing_percentage)"
   ]
  },
  {
   "cell_type": "code",
   "execution_count": 16,
   "metadata": {},
   "outputs": [],
   "source": [
    "# Menyimpan ke file CSV\n",
    "data.to_csv('cleaned_movie2.csv', index=True)"
   ]
  },
  {
   "cell_type": "code",
   "execution_count": 18,
   "metadata": {},
   "outputs": [
    {
     "ename": "AttributeError",
     "evalue": "'DataFrame' object has no attribute 'dtype'",
     "output_type": "error",
     "traceback": [
      "\u001b[1;31m---------------------------------------------------------------------------\u001b[0m",
      "\u001b[1;31mAttributeError\u001b[0m                            Traceback (most recent call last)",
      "\u001b[1;32m~\\AppData\\Local\\Temp\\ipykernel_8068\\2136344467.py\u001b[0m in \u001b[0;36m?\u001b[1;34m()\u001b[0m\n\u001b[1;32m----> 1\u001b[1;33m \u001b[0mprint\u001b[0m\u001b[1;33m(\u001b[0m\u001b[0mdata\u001b[0m\u001b[1;33m.\u001b[0m\u001b[0mdtype\u001b[0m\u001b[1;33m)\u001b[0m\u001b[1;33m\u001b[0m\u001b[1;33m\u001b[0m\u001b[0m\n\u001b[0m",
      "\u001b[1;32mc:\\Users\\HP\\AppData\\Local\\Programs\\Python\\Python312\\Lib\\site-packages\\pandas\\core\\generic.py\u001b[0m in \u001b[0;36m?\u001b[1;34m(self, name)\u001b[0m\n\u001b[0;32m   6295\u001b[0m             \u001b[1;32mand\u001b[0m \u001b[0mname\u001b[0m \u001b[1;32mnot\u001b[0m \u001b[1;32min\u001b[0m \u001b[0mself\u001b[0m\u001b[1;33m.\u001b[0m\u001b[0m_accessors\u001b[0m\u001b[1;33m\u001b[0m\u001b[1;33m\u001b[0m\u001b[0m\n\u001b[0;32m   6296\u001b[0m             \u001b[1;32mand\u001b[0m \u001b[0mself\u001b[0m\u001b[1;33m.\u001b[0m\u001b[0m_info_axis\u001b[0m\u001b[1;33m.\u001b[0m\u001b[0m_can_hold_identifiers_and_holds_name\u001b[0m\u001b[1;33m(\u001b[0m\u001b[0mname\u001b[0m\u001b[1;33m)\u001b[0m\u001b[1;33m\u001b[0m\u001b[1;33m\u001b[0m\u001b[0m\n\u001b[0;32m   6297\u001b[0m         \u001b[1;33m)\u001b[0m\u001b[1;33m:\u001b[0m\u001b[1;33m\u001b[0m\u001b[1;33m\u001b[0m\u001b[0m\n\u001b[0;32m   6298\u001b[0m             \u001b[1;32mreturn\u001b[0m \u001b[0mself\u001b[0m\u001b[1;33m[\u001b[0m\u001b[0mname\u001b[0m\u001b[1;33m]\u001b[0m\u001b[1;33m\u001b[0m\u001b[1;33m\u001b[0m\u001b[0m\n\u001b[1;32m-> 6299\u001b[1;33m         \u001b[1;32mreturn\u001b[0m \u001b[0mobject\u001b[0m\u001b[1;33m.\u001b[0m\u001b[0m__getattribute__\u001b[0m\u001b[1;33m(\u001b[0m\u001b[0mself\u001b[0m\u001b[1;33m,\u001b[0m \u001b[0mname\u001b[0m\u001b[1;33m)\u001b[0m\u001b[1;33m\u001b[0m\u001b[1;33m\u001b[0m\u001b[0m\n\u001b[0m",
      "\u001b[1;31mAttributeError\u001b[0m: 'DataFrame' object has no attribute 'dtype'"
     ]
    }
   ],
   "source": [
    "print(data.dtype)\n"
   ]
  }
 ],
 "metadata": {
  "kernelspec": {
   "display_name": "Python 3",
   "language": "python",
   "name": "python3"
  },
  "language_info": {
   "codemirror_mode": {
    "name": "ipython",
    "version": 3
   },
   "file_extension": ".py",
   "mimetype": "text/x-python",
   "name": "python",
   "nbconvert_exporter": "python",
   "pygments_lexer": "ipython3",
   "version": "3.12.6"
  }
 },
 "nbformat": 4,
 "nbformat_minor": 2
}
